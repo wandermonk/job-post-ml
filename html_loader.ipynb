{
 "cells": [
  {
   "cell_type": "code",
   "execution_count": 4,
   "metadata": {},
   "outputs": [],
   "source": [
    "import pandas as pd\n",
    "from bs4 import BeautifulSoup"
   ]
  },
  {
   "cell_type": "code",
   "execution_count": 21,
   "metadata": {},
   "outputs": [
    {
     "name": "stdout",
     "output_type": "stream",
     "text": [
      "b'<html>\\n <head>\\n  <title>\\n   Data Engineer - Columbus, GA 31909\\n  </title>\\n </head>\\n <body>\\n  <h2>\\n   Data Engineer - Columbus, GA 31909\\n  </h2>\\n  <p>\\n   Celebrating its twenty-fifth anniversary in 2016, Cyient is an acknowledged leader in engineering design services, design-led manufacturing, networks and operations, data transformation, and analytics. We collaborate with our clients to help them achieve more and together shape a better future. We call it Designing Tomorrow Together.\\n  </p>\\n  <p>\\n  </p>\\n  <p>\\n   Our industry focus includes aerospace, defense, rail transportation, off-highway &amp; industrial, power generation, mining, oil &amp; gas, communications, utilities, geospatial, semiconductor and medical technology. We align closely with the business needs, goals, culture, and core values of our clients. This reflects in the deep, long-standing relationships we have developed and sustained with some of the leading names in these industries.\\n  </p>\\n  <p>\\n  </p>\\n  <p>\\n   <b>\\n    LOCATION\\n   </b>\\n  </p>\\n  Columbus,Georgia\\n  <p>\\n  </p>\\n  <p>\\n   <b>\\n    JOB DESCRIPTION SUMMARY\\n   </b>\\n  </p>\\n  <p>\\n  </p>\\n  Expertise in computational, quantitative, and algorithmic techniques applicable to data science. Performs data wrangling, ETL, and data exploration tasks. Data feature engineering to collect and structure to enhance modeling/analytical framework.\\n  <p>\\n   <b>\\n    JOB DESCRIPTION\\n   </b>\\n  </p>\\n  <p>\\n   Provides expertise on computational, quantitative, and algorithmic techniques applicable to data science\\n  </p>\\n  <p>\\n   Performs data wrangling, ETL, and data exploration tasks\\n  </p>\\n  <p>\\n   Create and develop predictive models using AI/ML technologies, installing/monitoring the production performance of models.\\n  </p>\\n  <p>\\n   Data feature engineering to collect and structure to enhance modeling/analytical framework.\\n  </p>\\n  <p>\\n   Work closely with business analysts and engineers to deploy models in production both in real time and in batch process and systematically track model performance.\\n  </p>\\n  <p>\\n   Participate in analysis of data stores and help with data analytics\\n   <br/>\\n   Ensure solutions developed adhere to security and data entitlements\\n   <br/>\\n   Translate functional and technical requirements into detail design\\n  </p>\\n  <p>\\n   Good communications, interpersonal skills &amp; Proactive.\\n  </p>\\n  <p>\\n  </p>\\n  <p>\\n   <b>\\n    Minimum Qualifications\\n   </b>\\n  </p>\\n  <ul>\\n   <li>\\n    Bachelor\\xe2\\x80\\x99s or Master\\xe2\\x80\\x99s degree in statistics, operations research, computer science, physics or related discipline\\n   </li>\\n   <li>\\n    2+ years of industry experience in a technical role, preferably in a data science capacity\\n   </li>\\n   <li>\\n    Good knowledge of R or Python or Spark\\n   </li>\\n   <li>\\n    Knowledge of the following: Generalized Linear and Non-Linear Models, Time Series Analysis, Random Forest, Gradient Boosted Machines, Neural Networks, Unsupervised Methods (Dimensionality Reduction, Clustering, etc.)\\n   </li>\\n   <li>\\n    Experience querying relational data systems for ETL and data integration tasks\\n   </li>\\n   <li>\\n    Good communications skills with ability to present to technical and business audiences\\n   </li>\\n   <li>\\n    Experience using Spark/Hadoop systems for distributed analytics and data processing\\n   </li>\\n   <li>\\n    Experience working in a cloud-computing environment such as AWS, Azure, GCP, etc\\n   </li>\\n  </ul>\\n </body>\\n</html>'\n"
     ]
    }
   ],
   "source": [
    "\n",
    "with open(\"/Users/phyadavi/resume-job-posting-nlp-project/data/html_job_postings/001b92395ed0fb62_fccid.html\") as fp:\n",
    "    soup = BeautifulSoup(fp)\n",
    "    print(soup.prettify(\"utf-8\"))\n",
    "            "
   ]
  },
  {
   "cell_type": "code",
   "execution_count": null,
   "metadata": {},
   "outputs": [],
   "source": [
    "for tag in soup.find_all(True):\n",
    "        if tag.name == \"title\":\n",
    "            print(\"Title: {}\".format(tag.text))\n",
    "        elif tag.name == \"p\" and tag.text == \"LOCATION\":"
   ]
  }
 ],
 "metadata": {
  "kernelspec": {
   "display_name": "Python 3",
   "language": "python",
   "name": "python3"
  },
  "language_info": {
   "codemirror_mode": {
    "name": "ipython",
    "version": 3
   },
   "file_extension": ".py",
   "mimetype": "text/x-python",
   "name": "python",
   "nbconvert_exporter": "python",
   "pygments_lexer": "ipython3",
   "version": "3.7.6"
  }
 },
 "nbformat": 4,
 "nbformat_minor": 4
}
